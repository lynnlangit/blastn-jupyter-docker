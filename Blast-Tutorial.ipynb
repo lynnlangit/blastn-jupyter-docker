{
 "cells": [
  {
   "cell_type": "markdown",
   "metadata": {},
   "source": [
    "# Get the database from the BLAST tutorial"
   ]
  },
  {
   "cell_type": "code",
   "execution_count": 1,
   "metadata": {},
   "outputs": [
    {
     "name": "stderr",
     "output_type": "stream",
     "text": [
      "  % Total    % Received % Xferd  Average Speed   Time    Time     Time  Current\n",
      "                                 Dload  Upload   Total   Spent    Left  Speed\n",
      "\r",
      "  0     0    0     0    0     0      0      0 --:--:-- --:--:-- --:--:--     0\r",
      "  0     0    0     0    0     0      0      0 --:--:-- --:--:-- --:--:--     0\r",
      " 69 1567k   69 1087k    0     0   892k      0  0:00:01  0:00:01 --:--:--  891k\r",
      "100 1567k  100 1567k    0     0  1203k      0  0:00:01  0:00:01 --:--:-- 1202k\n"
     ]
    }
   ],
   "source": [
    "%%bash\n",
    "if [ ! -f /home/jovyan/work/Blast_Tutorial.tar.gz ]; then\n",
    "    curl -O https://s3.amazonaws.com/edamame/Blast_Tutorial.tar.gz\n",
    "    tar -zxvf Blast_Tutorial.tar.gz\n",
    "fi"
   ]
  },
  {
   "cell_type": "markdown",
   "metadata": {},
   "source": [
    "# Create the database from the file downloaded then run the blast algo\n",
    "###### Generates the output under out.txt"
   ]
  },
  {
   "cell_type": "code",
   "execution_count": 9,
   "metadata": {},
   "outputs": [
    {
     "name": "stdout",
     "output_type": "stream",
     "text": [
      "total 14308\n",
      "-rw-r--r-- 1 jovyan users 3235691 Jun  8 03:52 My16sAmplicon.nhr\n",
      "-rw-r--r-- 1 jovyan users  303520 Jun  8 03:52 My16sAmplicon.nin\n",
      "-rw-r--r-- 1 jovyan users 1618369 Jun  8 03:52 My16sAmplicon.nsq\n",
      "-rw-r----- 1 jovyan users   12637 Jun 24  2015 MyQuery.txt\n",
      "-rw-r----- 1 jovyan users 1321927 Jun 24  2015 Refsoil16s.fa\n",
      "-rw-r----- 1 jovyan users 8141497 Jun 24  2015 rep_set.fna\n",
      "-rw-r----- 1 jovyan users     607 Jun 24  2015 rep_set_sub.fna\n",
      "\n",
      "\n",
      "Building a new DB, current time: 06/08/2018 03:53:36\n",
      "New DB name:   /home/jovyan/work/Blast_Tutorial/My16sAmplicon\n",
      "New DB title:  rep_set.fna\n",
      "Sequence type: Nucleotide\n",
      "Deleted existing Nucleotide BLAST database named /home/jovyan/work/Blast_Tutorial/My16sAmplicon\n",
      "Keep MBits: T\n",
      "Maximum file size: 1000000000B\n",
      "Adding sequences from FASTA; added 25287 sequences in 1.03382 seconds.\n"
     ]
    }
   ],
   "source": [
    "%%bash \n",
    "cd Blast_Tutorial\n",
    "ls -l\n",
    "makeblastdb -in rep_set.fna -dbtype nucl -out My16sAmplicon\n",
    "blastn -db My16sAmplicon -query MyQuery.txt -out out.txt"
   ]
  },
  {
   "cell_type": "markdown",
   "metadata": {},
   "source": [
    "# Check to make sure the file was created"
   ]
  },
  {
   "cell_type": "code",
   "execution_count": 11,
   "metadata": {},
   "outputs": [
    {
     "name": "stdout",
     "output_type": "stream",
     "text": [
      "total 15640\n",
      "-rw-r--r-- 1 jovyan users 3235691 Jun  8 03:53 My16sAmplicon.nhr\n",
      "-rw-r--r-- 1 jovyan users  303520 Jun  8 03:53 My16sAmplicon.nin\n",
      "-rw-r--r-- 1 jovyan users 1618369 Jun  8 03:53 My16sAmplicon.nsq\n",
      "-rw-r----- 1 jovyan users   12637 Jun 24  2015 MyQuery.txt\n",
      "-rw-r--r-- 1 jovyan users 1362657 Jun  8 03:53 out.txt\n",
      "-rw-r----- 1 jovyan users 1321927 Jun 24  2015 Refsoil16s.fa\n",
      "-rw-r----- 1 jovyan users 8141497 Jun 24  2015 rep_set.fna\n",
      "-rw-r----- 1 jovyan users     607 Jun 24  2015 rep_set_sub.fna\n"
     ]
    }
   ],
   "source": [
    "%%bash\n",
    "cd Blast_Tutorial\n",
    "ls -l"
   ]
  }
 ],
 "metadata": {
  "kernelspec": {
   "display_name": "Python 3",
   "language": "python",
   "name": "python3"
  },
  "language_info": {
   "codemirror_mode": {
    "name": "ipython",
    "version": 3
   },
   "file_extension": ".py",
   "mimetype": "text/x-python",
   "name": "python",
   "nbconvert_exporter": "python",
   "pygments_lexer": "ipython3",
   "version": "3.6.5"
  }
 },
 "nbformat": 4,
 "nbformat_minor": 2
}
